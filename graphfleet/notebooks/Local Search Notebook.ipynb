{
 "cells": [
  {
   "cell_type": "code",
   "execution_count": null,
   "metadata": {},
   "outputs": [],
   "source": [
    "# Copyright (c) 2024 Microsoft Corporation.\n",
    "# Licensed under the MIT License."
   ]
  },
  {
   "cell_type": "code",
<<<<<<< HEAD
   "execution_count": null,
=======
   "execution_count": 33,
>>>>>>> origin/main
   "metadata": {},
   "outputs": [],
   "source": [
    "import os\n",
    "\n",
    "import pandas as pd\n",
    "import tiktoken\n",
    "\n",
    "from graphrag.query.context_builder.entity_extraction import EntityVectorStoreKey\n",
    "from graphrag.query.indexer_adapters import (\n",
    "    read_indexer_covariates,\n",
    "    read_indexer_entities,\n",
    "    read_indexer_relationships,\n",
    "    read_indexer_reports,\n",
    "    read_indexer_text_units,\n",
    ")\n",
    "from graphrag.query.input.loaders.dfs import (\n",
    "    store_entity_semantic_embeddings,\n",
    ")\n",
    "from graphrag.query.llm.oai.chat_openai import ChatOpenAI\n",
    "from graphrag.query.llm.oai.embedding import OpenAIEmbedding\n",
    "from graphrag.query.llm.oai.typing import OpenaiApiType\n",
    "from graphrag.query.question_gen.local_gen import LocalQuestionGen\n",
    "from graphrag.query.structured_search.local_search.mixed_context import (\n",
    "    LocalSearchMixedContext,\n",
    ")\n",
    "from graphrag.query.structured_search.local_search.search import LocalSearch\n",
    "from graphrag.vector_stores.lancedb import LanceDBVectorStore"
   ]
  },
  {
   "cell_type": "markdown",
   "metadata": {},
   "source": [
    "## Local Search Example\n",
    "\n",
    "Local search method generates answers by combining relevant data from the AI-extracted knowledge-graph with text chunks of the raw documents. This method is suitable for questions that require an understanding of specific entities mentioned in the documents (e.g. What are the healing properties of chamomile?)."
   ]
  },
  {
   "cell_type": "markdown",
   "metadata": {},
   "source": [
    "### Load text units and graph data tables as context for local search\n",
    "\n",
    "- In this test we first load indexing outputs from parquet files to dataframes, then convert these dataframes into collections of data objects aligning with the knowledge model."
   ]
  },
  {
   "cell_type": "markdown",
   "metadata": {},
   "source": [
    "### Load tables to dataframes"
   ]
  },
  {
   "cell_type": "code",
<<<<<<< HEAD
   "execution_count": null,
=======
   "execution_count": 34,
>>>>>>> origin/main
   "metadata": {},
   "outputs": [],
   "source": [
    "INPUT_DIR = \"../output/usage_ai/artifacts\"\n",
    "LANCEDB_URI = f\"{INPUT_DIR}/lancedb\"\n",
    "\n",
    "COMMUNITY_REPORT_TABLE = \"create_final_community_reports\"\n",
    "ENTITY_TABLE = \"create_final_nodes\"\n",
    "ENTITY_EMBEDDING_TABLE = \"create_final_entities\"\n",
    "RELATIONSHIP_TABLE = \"create_final_relationships\"\n",
    "COVARIATE_TABLE = \"create_final_covariates\"\n",
    "TEXT_UNIT_TABLE = \"create_final_text_units\"\n",
    "COMMUNITY_LEVEL = 2"
   ]
  },
  {
   "cell_type": "markdown",
   "metadata": {},
   "source": [
    "#### Read entities"
   ]
  },
  {
   "cell_type": "code",
<<<<<<< HEAD
   "execution_count": null,
   "metadata": {},
   "outputs": [],
=======
   "execution_count": 35,
   "metadata": {},
   "outputs": [
    {
     "name": "stdout",
     "output_type": "stream",
     "text": [
      "Entity count: 1917\n"
     ]
    },
    {
     "name": "stderr",
     "output_type": "stream",
     "text": [
      "[2024-08-08T13:13:06Z WARN  lance::dataset] No existing dataset at /Volumes/Samsung-SSD-T7/Qredence/GraphFleet/GraphFleet1/graphfleet/notebooks/../output/usage_ai/artifacts/lancedb/entity_description_embeddings.lance, it will be created\n"
     ]
    },
    {
     "data": {
      "text/html": [
       "<div>\n",
       "<style scoped>\n",
       "    .dataframe tbody tr th:only-of-type {\n",
       "        vertical-align: middle;\n",
       "    }\n",
       "\n",
       "    .dataframe tbody tr th {\n",
       "        vertical-align: top;\n",
       "    }\n",
       "\n",
       "    .dataframe thead th {\n",
       "        text-align: right;\n",
       "    }\n",
       "</style>\n",
       "<table border=\"1\" class=\"dataframe\">\n",
       "  <thead>\n",
       "    <tr style=\"text-align: right;\">\n",
       "      <th></th>\n",
       "      <th>level</th>\n",
       "      <th>title</th>\n",
       "      <th>type</th>\n",
       "      <th>description</th>\n",
       "      <th>source_id</th>\n",
       "      <th>community</th>\n",
       "      <th>degree</th>\n",
       "      <th>human_readable_id</th>\n",
       "      <th>id</th>\n",
       "      <th>size</th>\n",
       "      <th>graph_embedding</th>\n",
       "      <th>entity_type</th>\n",
       "      <th>top_level_node_id</th>\n",
       "      <th>x</th>\n",
       "      <th>y</th>\n",
       "    </tr>\n",
       "  </thead>\n",
       "  <tbody>\n",
       "    <tr>\n",
       "      <th>0</th>\n",
       "      <td>0</td>\n",
       "      <td>MICROSOFT</td>\n",
       "      <td>ORGANIZATION</td>\n",
       "      <td>Microsoft is a technology company that conduct...</td>\n",
       "      <td>0323a135b8299e84a110f1aa06e6b4a6,204b433ad19e0...</td>\n",
       "      <td>2</td>\n",
       "      <td>25</td>\n",
       "      <td>0</td>\n",
       "      <td>b45241d70f0e43fca764df95b2b81f77</td>\n",
       "      <td>25.0</td>\n",
       "      <td>[-0.06957332044839859, -0.04348175972700119, -...</td>\n",
       "      <td>None</td>\n",
       "      <td>b45241d70f0e43fca764df95b2b81f77</td>\n",
       "      <td>6.419162</td>\n",
       "      <td>-6.675766</td>\n",
       "    </tr>\n",
       "    <tr>\n",
       "      <th>1</th>\n",
       "      <td>0</td>\n",
       "      <td>SECOND MICROSOFT REPORT ON AI AND PRODUCTIVITY...</td>\n",
       "      <td>DOCUMENT</td>\n",
       "      <td>The Second Microsoft Report on AI and Producti...</td>\n",
       "      <td>644d7a7f0fa5b1428c1fafe65258b2c0</td>\n",
       "      <td>13</td>\n",
       "      <td>58</td>\n",
       "      <td>1</td>\n",
       "      <td>4119fd06010c494caa07f439b333f4c5</td>\n",
       "      <td>58.0</td>\n",
       "      <td>[-0.12563732266426086, 0.07880357652902603, -0...</td>\n",
       "      <td>None</td>\n",
       "      <td>4119fd06010c494caa07f439b333f4c5</td>\n",
       "      <td>-1.310579</td>\n",
       "      <td>1.134900</td>\n",
       "    </tr>\n",
       "    <tr>\n",
       "      <th>2</th>\n",
       "      <td>0</td>\n",
       "      <td>SONIA JAFFE</td>\n",
       "      <td>PERSON</td>\n",
       "      <td>Sonia Jaffe is a researcher prominently involv...</td>\n",
       "      <td>644d7a7f0fa5b1428c1fafe65258b2c0,9588396616caa...</td>\n",
       "      <td>4</td>\n",
       "      <td>2</td>\n",
       "      <td>2</td>\n",
       "      <td>d3835bf3dda84ead99deadbeac5d0d7d</td>\n",
       "      <td>2.0</td>\n",
       "      <td>[-0.08217236399650574, 0.0687311664223671, -0....</td>\n",
       "      <td>None</td>\n",
       "      <td>d3835bf3dda84ead99deadbeac5d0d7d</td>\n",
       "      <td>2.364835</td>\n",
       "      <td>-5.030548</td>\n",
       "    </tr>\n",
       "    <tr>\n",
       "      <th>3</th>\n",
       "      <td>0</td>\n",
       "      <td>NEHA PARIKH SHAH</td>\n",
       "      <td>PERSON</td>\n",
       "      <td>Neha Parikh Shah is one of the editors of the ...</td>\n",
       "      <td>644d7a7f0fa5b1428c1fafe65258b2c0</td>\n",
       "      <td>13</td>\n",
       "      <td>1</td>\n",
       "      <td>3</td>\n",
       "      <td>077d2820ae1845bcbb1803379a3d1eae</td>\n",
       "      <td>1.0</td>\n",
       "      <td>[-0.07571760565042496, 0.05104828625917435, -0...</td>\n",
       "      <td>None</td>\n",
       "      <td>077d2820ae1845bcbb1803379a3d1eae</td>\n",
       "      <td>-0.922084</td>\n",
       "      <td>1.662963</td>\n",
       "    </tr>\n",
       "    <tr>\n",
       "      <th>4</th>\n",
       "      <td>0</td>\n",
       "      <td>JENNA BUTLER</td>\n",
       "      <td>PERSON</td>\n",
       "      <td>Jenna Butler is one of the editors of the Seco...</td>\n",
       "      <td>644d7a7f0fa5b1428c1fafe65258b2c0</td>\n",
       "      <td>13</td>\n",
       "      <td>1</td>\n",
       "      <td>4</td>\n",
       "      <td>3671ea0dd4e84c1a9b02c5ab2c8f4bac</td>\n",
       "      <td>1.0</td>\n",
       "      <td>[-0.07471488416194916, 0.06074602156877518, -0...</td>\n",
       "      <td>None</td>\n",
       "      <td>3671ea0dd4e84c1a9b02c5ab2c8f4bac</td>\n",
       "      <td>-1.044098</td>\n",
       "      <td>1.466650</td>\n",
       "    </tr>\n",
       "  </tbody>\n",
       "</table>\n",
       "</div>"
      ],
      "text/plain": [
       "   level                                              title          type  \\\n",
       "0      0                                          MICROSOFT  ORGANIZATION   \n",
       "1      0  SECOND MICROSOFT REPORT ON AI AND PRODUCTIVITY...      DOCUMENT   \n",
       "2      0                                        SONIA JAFFE        PERSON   \n",
       "3      0                                   NEHA PARIKH SHAH        PERSON   \n",
       "4      0                                       JENNA BUTLER        PERSON   \n",
       "\n",
       "                                         description  \\\n",
       "0  Microsoft is a technology company that conduct...   \n",
       "1  The Second Microsoft Report on AI and Producti...   \n",
       "2  Sonia Jaffe is a researcher prominently involv...   \n",
       "3  Neha Parikh Shah is one of the editors of the ...   \n",
       "4  Jenna Butler is one of the editors of the Seco...   \n",
       "\n",
       "                                           source_id community  degree  \\\n",
       "0  0323a135b8299e84a110f1aa06e6b4a6,204b433ad19e0...         2      25   \n",
       "1                   644d7a7f0fa5b1428c1fafe65258b2c0        13      58   \n",
       "2  644d7a7f0fa5b1428c1fafe65258b2c0,9588396616caa...         4       2   \n",
       "3                   644d7a7f0fa5b1428c1fafe65258b2c0        13       1   \n",
       "4                   644d7a7f0fa5b1428c1fafe65258b2c0        13       1   \n",
       "\n",
       "   human_readable_id                                id  size  \\\n",
       "0                  0  b45241d70f0e43fca764df95b2b81f77  25.0   \n",
       "1                  1  4119fd06010c494caa07f439b333f4c5  58.0   \n",
       "2                  2  d3835bf3dda84ead99deadbeac5d0d7d   2.0   \n",
       "3                  3  077d2820ae1845bcbb1803379a3d1eae   1.0   \n",
       "4                  4  3671ea0dd4e84c1a9b02c5ab2c8f4bac   1.0   \n",
       "\n",
       "                                     graph_embedding entity_type  \\\n",
       "0  [-0.06957332044839859, -0.04348175972700119, -...        None   \n",
       "1  [-0.12563732266426086, 0.07880357652902603, -0...        None   \n",
       "2  [-0.08217236399650574, 0.0687311664223671, -0....        None   \n",
       "3  [-0.07571760565042496, 0.05104828625917435, -0...        None   \n",
       "4  [-0.07471488416194916, 0.06074602156877518, -0...        None   \n",
       "\n",
       "                  top_level_node_id         x         y  \n",
       "0  b45241d70f0e43fca764df95b2b81f77  6.419162 -6.675766  \n",
       "1  4119fd06010c494caa07f439b333f4c5 -1.310579  1.134900  \n",
       "2  d3835bf3dda84ead99deadbeac5d0d7d  2.364835 -5.030548  \n",
       "3  077d2820ae1845bcbb1803379a3d1eae -0.922084  1.662963  \n",
       "4  3671ea0dd4e84c1a9b02c5ab2c8f4bac -1.044098  1.466650  "
      ]
     },
     "execution_count": 35,
     "metadata": {},
     "output_type": "execute_result"
    }
   ],
>>>>>>> origin/main
   "source": [
    "# read nodes table to get community and degree data\n",
    "entity_df = pd.read_parquet(f\"{INPUT_DIR}/{ENTITY_TABLE}.parquet\")\n",
    "entity_embedding_df = pd.read_parquet(f\"{INPUT_DIR}/{ENTITY_EMBEDDING_TABLE}.parquet\")\n",
    "\n",
    "entities = read_indexer_entities(entity_df, entity_embedding_df, COMMUNITY_LEVEL)\n",
    "\n",
    "# load description embeddings to an in-memory lancedb vectorstore\n",
    "# to connect to a remote db, specify url and port values.\n",
    "description_embedding_store = LanceDBVectorStore(\n",
    "    collection_name=\"entity_description_embeddings\",\n",
    ")\n",
    "description_embedding_store.connect(db_uri=LANCEDB_URI)\n",
    "entity_description_embeddings = store_entity_semantic_embeddings(\n",
    "    entities=entities, vectorstore=description_embedding_store\n",
    ")\n",
    "\n",
    "print(f\"Entity count: {len(entity_df)}\")\n",
    "entity_df.head()"
   ]
  },
  {
   "cell_type": "markdown",
   "metadata": {},
   "source": [
    "#### Read relationships"
   ]
  },
  {
   "cell_type": "code",
<<<<<<< HEAD
   "execution_count": null,
   "metadata": {},
   "outputs": [],
=======
   "execution_count": 36,
   "metadata": {},
   "outputs": [
    {
     "name": "stdout",
     "output_type": "stream",
     "text": [
      "Relationship count: 869\n"
     ]
    },
    {
     "data": {
      "text/html": [
       "<div>\n",
       "<style scoped>\n",
       "    .dataframe tbody tr th:only-of-type {\n",
       "        vertical-align: middle;\n",
       "    }\n",
       "\n",
       "    .dataframe tbody tr th {\n",
       "        vertical-align: top;\n",
       "    }\n",
       "\n",
       "    .dataframe thead th {\n",
       "        text-align: right;\n",
       "    }\n",
       "</style>\n",
       "<table border=\"1\" class=\"dataframe\">\n",
       "  <thead>\n",
       "    <tr style=\"text-align: right;\">\n",
       "      <th></th>\n",
       "      <th>source</th>\n",
       "      <th>target</th>\n",
       "      <th>weight</th>\n",
       "      <th>description</th>\n",
       "      <th>text_unit_ids</th>\n",
       "      <th>id</th>\n",
       "      <th>human_readable_id</th>\n",
       "      <th>source_degree</th>\n",
       "      <th>target_degree</th>\n",
       "      <th>rank</th>\n",
       "    </tr>\n",
       "  </thead>\n",
       "  <tbody>\n",
       "    <tr>\n",
       "      <th>0</th>\n",
       "      <td>MICROSOFT</td>\n",
       "      <td>SECOND MICROSOFT REPORT ON AI AND PRODUCTIVITY...</td>\n",
       "      <td>2.0</td>\n",
       "      <td>Microsoft released the Second Microsoft Report...</td>\n",
       "      <td>[644d7a7f0fa5b1428c1fafe65258b2c0]</td>\n",
       "      <td>b823ba1bfe944fa9887edd8faf8a5f17</td>\n",
       "      <td>0</td>\n",
       "      <td>25</td>\n",
       "      <td>58</td>\n",
       "      <td>83</td>\n",
       "    </tr>\n",
       "    <tr>\n",
       "      <th>1</th>\n",
       "      <td>MICROSOFT</td>\n",
       "      <td>AI AND PRODUCTIVITY REPORT</td>\n",
       "      <td>1.0</td>\n",
       "      <td>Microsoft released the AI and Productivity Report</td>\n",
       "      <td>[204b433ad19e035991efb2df3a12772a]</td>\n",
       "      <td>d0bfb473fdc64643954cdb4675e2f389</td>\n",
       "      <td>1</td>\n",
       "      <td>25</td>\n",
       "      <td>16</td>\n",
       "      <td>41</td>\n",
       "    </tr>\n",
       "    <tr>\n",
       "      <th>2</th>\n",
       "      <td>MICROSOFT</td>\n",
       "      <td>SECOND MICROSOFT REPORT</td>\n",
       "      <td>1.0</td>\n",
       "      <td>Microsoft released the Second Microsoft Report...</td>\n",
       "      <td>[204b433ad19e035991efb2df3a12772a]</td>\n",
       "      <td>a4db1b2a9c3e4d2d838725f8166c36b4</td>\n",
       "      <td>2</td>\n",
       "      <td>25</td>\n",
       "      <td>11</td>\n",
       "      <td>36</td>\n",
       "    </tr>\n",
       "    <tr>\n",
       "      <th>3</th>\n",
       "      <td>MICROSOFT</td>\n",
       "      <td>SECOND MICROSOFT AI AND PRODUCTIVITY REPORT</td>\n",
       "      <td>1.0</td>\n",
       "      <td>Microsoft released the Second AI and Productiv...</td>\n",
       "      <td>[bffea0de28de23b824ababad8ebd6b67]</td>\n",
       "      <td>8dae140578c841ae9373cbc607c4a6e6</td>\n",
       "      <td>3</td>\n",
       "      <td>25</td>\n",
       "      <td>6</td>\n",
       "      <td>31</td>\n",
       "    </tr>\n",
       "    <tr>\n",
       "      <th>4</th>\n",
       "      <td>MICROSOFT</td>\n",
       "      <td>COMMERCIAL INTEREST</td>\n",
       "      <td>1.0</td>\n",
       "      <td>Microsoft has a commercial interest in demonst...</td>\n",
       "      <td>[bffea0de28de23b824ababad8ebd6b67]</td>\n",
       "      <td>b215cc33cf40434f87f284ff8f3506a4</td>\n",
       "      <td>4</td>\n",
       "      <td>25</td>\n",
       "      <td>1</td>\n",
       "      <td>26</td>\n",
       "    </tr>\n",
       "  </tbody>\n",
       "</table>\n",
       "</div>"
      ],
      "text/plain": [
       "      source                                             target  weight  \\\n",
       "0  MICROSOFT  SECOND MICROSOFT REPORT ON AI AND PRODUCTIVITY...     2.0   \n",
       "1  MICROSOFT                         AI AND PRODUCTIVITY REPORT     1.0   \n",
       "2  MICROSOFT                            SECOND MICROSOFT REPORT     1.0   \n",
       "3  MICROSOFT        SECOND MICROSOFT AI AND PRODUCTIVITY REPORT     1.0   \n",
       "4  MICROSOFT                                COMMERCIAL INTEREST     1.0   \n",
       "\n",
       "                                         description  \\\n",
       "0  Microsoft released the Second Microsoft Report...   \n",
       "1  Microsoft released the AI and Productivity Report   \n",
       "2  Microsoft released the Second Microsoft Report...   \n",
       "3  Microsoft released the Second AI and Productiv...   \n",
       "4  Microsoft has a commercial interest in demonst...   \n",
       "\n",
       "                        text_unit_ids                                id  \\\n",
       "0  [644d7a7f0fa5b1428c1fafe65258b2c0]  b823ba1bfe944fa9887edd8faf8a5f17   \n",
       "1  [204b433ad19e035991efb2df3a12772a]  d0bfb473fdc64643954cdb4675e2f389   \n",
       "2  [204b433ad19e035991efb2df3a12772a]  a4db1b2a9c3e4d2d838725f8166c36b4   \n",
       "3  [bffea0de28de23b824ababad8ebd6b67]  8dae140578c841ae9373cbc607c4a6e6   \n",
       "4  [bffea0de28de23b824ababad8ebd6b67]  b215cc33cf40434f87f284ff8f3506a4   \n",
       "\n",
       "  human_readable_id  source_degree  target_degree  rank  \n",
       "0                 0             25             58    83  \n",
       "1                 1             25             16    41  \n",
       "2                 2             25             11    36  \n",
       "3                 3             25              6    31  \n",
       "4                 4             25              1    26  "
      ]
     },
     "execution_count": 36,
     "metadata": {},
     "output_type": "execute_result"
    }
   ],
>>>>>>> origin/main
   "source": [
    "relationship_df = pd.read_parquet(f\"{INPUT_DIR}/{RELATIONSHIP_TABLE}.parquet\")\n",
    "relationships = read_indexer_relationships(relationship_df)\n",
    "\n",
    "print(f\"Relationship count: {len(relationship_df)}\")\n",
    "relationship_df.head()"
   ]
  },
  {
   "cell_type": "code",
<<<<<<< HEAD
   "execution_count": null,
   "metadata": {},
   "outputs": [],
=======
   "execution_count": 37,
   "metadata": {},
   "outputs": [
    {
     "name": "stdout",
     "output_type": "stream",
     "text": [
      "Claim records: 174\n"
     ]
    }
   ],
>>>>>>> origin/main
   "source": [
    "# NOTE: covariates are turned off by default, because they generally need prompt tuning to be valuable\n",
    "# Please see the GRAPHRAG_CLAIM_* settings\n",
    "covariate_df = pd.read_parquet(f\"{INPUT_DIR}/{COVARIATE_TABLE}.parquet\")\n",
    "\n",
    "claims = read_indexer_covariates(covariate_df)\n",
    "\n",
    "print(f\"Claim records: {len(claims)}\")\n",
    "covariates = {\"claims\": claims}"
   ]
  },
  {
   "cell_type": "markdown",
   "metadata": {},
   "source": [
    "#### Read community reports"
   ]
  },
  {
   "cell_type": "code",
<<<<<<< HEAD
   "execution_count": null,
   "metadata": {},
   "outputs": [],
=======
   "execution_count": 38,
   "metadata": {},
   "outputs": [
    {
     "name": "stdout",
     "output_type": "stream",
     "text": [
      "Report records: 106\n"
     ]
    },
    {
     "data": {
      "text/html": [
       "<div>\n",
       "<style scoped>\n",
       "    .dataframe tbody tr th:only-of-type {\n",
       "        vertical-align: middle;\n",
       "    }\n",
       "\n",
       "    .dataframe tbody tr th {\n",
       "        vertical-align: top;\n",
       "    }\n",
       "\n",
       "    .dataframe thead th {\n",
       "        text-align: right;\n",
       "    }\n",
       "</style>\n",
       "<table border=\"1\" class=\"dataframe\">\n",
       "  <thead>\n",
       "    <tr style=\"text-align: right;\">\n",
       "      <th></th>\n",
       "      <th>community</th>\n",
       "      <th>full_content</th>\n",
       "      <th>level</th>\n",
       "      <th>rank</th>\n",
       "      <th>title</th>\n",
       "      <th>rank_explanation</th>\n",
       "      <th>summary</th>\n",
       "      <th>findings</th>\n",
       "      <th>full_content_json</th>\n",
       "      <th>id</th>\n",
       "    </tr>\n",
       "  </thead>\n",
       "  <tbody>\n",
       "    <tr>\n",
       "      <th>0</th>\n",
       "      <td>100</td>\n",
       "      <td># Random Forest and AI Power Users\\n\\nThe comm...</td>\n",
       "      <td>2</td>\n",
       "      <td>8.5</td>\n",
       "      <td>Random Forest and AI Power Users</td>\n",
       "      <td>The impact rating is high due to the significa...</td>\n",
       "      <td>The community revolves around the Random Fores...</td>\n",
       "      <td>[{'explanation': 'The Random Forest model is t...</td>\n",
       "      <td>{\\n    \"title\": \"Random Forest and AI Power Us...</td>\n",
       "      <td>3e0fa18f-216a-4095-a1d4-1bce2299771a</td>\n",
       "    </tr>\n",
       "    <tr>\n",
       "      <th>1</th>\n",
       "      <td>101</td>\n",
       "      <td># Predictive Models and Model Performance in A...</td>\n",
       "      <td>2</td>\n",
       "      <td>9.0</td>\n",
       "      <td>Predictive Models and Model Performance in AI</td>\n",
       "      <td>The rating is high due to the significant impa...</td>\n",
       "      <td>The community is centered around the use of pr...</td>\n",
       "      <td>[{'explanation': 'Predictive models are centra...</td>\n",
       "      <td>{\\n    \"title\": \"Predictive Models and Model P...</td>\n",
       "      <td>33c467c6-d236-4f62-b28b-9b8b5ac948dc</td>\n",
       "    </tr>\n",
       "    <tr>\n",
       "      <th>2</th>\n",
       "      <td>102</td>\n",
       "      <td># Second Microsoft Report on AI and Productivi...</td>\n",
       "      <td>2</td>\n",
       "      <td>9.0</td>\n",
       "      <td>Second Microsoft Report on AI and Productivity...</td>\n",
       "      <td>The report is highly significant as it provide...</td>\n",
       "      <td>The community centers around the Second Micros...</td>\n",
       "      <td>[{'explanation': 'The Second Microsoft Report ...</td>\n",
       "      <td>{\\n    \"title\": \"Second Microsoft Report on AI...</td>\n",
       "      <td>8d54fa21-ec89-46da-b4ae-8ce2de2f885e</td>\n",
       "    </tr>\n",
       "    <tr>\n",
       "      <th>3</th>\n",
       "      <td>103</td>\n",
       "      <td># AI and Productivity Research Community: Key ...</td>\n",
       "      <td>2</td>\n",
       "      <td>9.0</td>\n",
       "      <td>AI and Productivity Research Community: Key Co...</td>\n",
       "      <td>The rating is high due to the significant impa...</td>\n",
       "      <td>The community centers around the research cont...</td>\n",
       "      <td>[{'explanation': 'Brian Houck is a contributin...</td>\n",
       "      <td>{\\n    \"title\": \"AI and Productivity Research ...</td>\n",
       "      <td>360b2cc1-d0f8-456e-b0bf-aed193e8abd8</td>\n",
       "    </tr>\n",
       "    <tr>\n",
       "      <th>4</th>\n",
       "      <td>104</td>\n",
       "      <td># Impact of Copilot for Security on Workplace ...</td>\n",
       "      <td>2</td>\n",
       "      <td>9.0</td>\n",
       "      <td>Impact of Copilot for Security on Workplace Pr...</td>\n",
       "      <td>The rating is high due to the comprehensive re...</td>\n",
       "      <td>The community centers around the research and ...</td>\n",
       "      <td>[{'explanation': 'Ben Edelman, James Bono, Rob...</td>\n",
       "      <td>{\\n    \"title\": \"Impact of Copilot for Securit...</td>\n",
       "      <td>824c64e1-ee24-4de9-9a7a-25e267092faf</td>\n",
       "    </tr>\n",
       "  </tbody>\n",
       "</table>\n",
       "</div>"
      ],
      "text/plain": [
       "  community                                       full_content  level  rank  \\\n",
       "0       100  # Random Forest and AI Power Users\\n\\nThe comm...      2   8.5   \n",
       "1       101  # Predictive Models and Model Performance in A...      2   9.0   \n",
       "2       102  # Second Microsoft Report on AI and Productivi...      2   9.0   \n",
       "3       103  # AI and Productivity Research Community: Key ...      2   9.0   \n",
       "4       104  # Impact of Copilot for Security on Workplace ...      2   9.0   \n",
       "\n",
       "                                               title  \\\n",
       "0                   Random Forest and AI Power Users   \n",
       "1      Predictive Models and Model Performance in AI   \n",
       "2  Second Microsoft Report on AI and Productivity...   \n",
       "3  AI and Productivity Research Community: Key Co...   \n",
       "4  Impact of Copilot for Security on Workplace Pr...   \n",
       "\n",
       "                                    rank_explanation  \\\n",
       "0  The impact rating is high due to the significa...   \n",
       "1  The rating is high due to the significant impa...   \n",
       "2  The report is highly significant as it provide...   \n",
       "3  The rating is high due to the significant impa...   \n",
       "4  The rating is high due to the comprehensive re...   \n",
       "\n",
       "                                             summary  \\\n",
       "0  The community revolves around the Random Fores...   \n",
       "1  The community is centered around the use of pr...   \n",
       "2  The community centers around the Second Micros...   \n",
       "3  The community centers around the research cont...   \n",
       "4  The community centers around the research and ...   \n",
       "\n",
       "                                            findings  \\\n",
       "0  [{'explanation': 'The Random Forest model is t...   \n",
       "1  [{'explanation': 'Predictive models are centra...   \n",
       "2  [{'explanation': 'The Second Microsoft Report ...   \n",
       "3  [{'explanation': 'Brian Houck is a contributin...   \n",
       "4  [{'explanation': 'Ben Edelman, James Bono, Rob...   \n",
       "\n",
       "                                   full_content_json  \\\n",
       "0  {\\n    \"title\": \"Random Forest and AI Power Us...   \n",
       "1  {\\n    \"title\": \"Predictive Models and Model P...   \n",
       "2  {\\n    \"title\": \"Second Microsoft Report on AI...   \n",
       "3  {\\n    \"title\": \"AI and Productivity Research ...   \n",
       "4  {\\n    \"title\": \"Impact of Copilot for Securit...   \n",
       "\n",
       "                                     id  \n",
       "0  3e0fa18f-216a-4095-a1d4-1bce2299771a  \n",
       "1  33c467c6-d236-4f62-b28b-9b8b5ac948dc  \n",
       "2  8d54fa21-ec89-46da-b4ae-8ce2de2f885e  \n",
       "3  360b2cc1-d0f8-456e-b0bf-aed193e8abd8  \n",
       "4  824c64e1-ee24-4de9-9a7a-25e267092faf  "
      ]
     },
     "execution_count": 38,
     "metadata": {},
     "output_type": "execute_result"
    }
   ],
>>>>>>> origin/main
   "source": [
    "report_df = pd.read_parquet(f\"{INPUT_DIR}/{COMMUNITY_REPORT_TABLE}.parquet\")\n",
    "reports = read_indexer_reports(report_df, entity_df, COMMUNITY_LEVEL)\n",
    "\n",
    "print(f\"Report records: {len(report_df)}\")\n",
    "report_df.head()"
   ]
  },
  {
   "cell_type": "markdown",
   "metadata": {},
   "source": [
    "#### Read text units"
   ]
  },
  {
   "cell_type": "code",
<<<<<<< HEAD
   "execution_count": null,
   "metadata": {},
   "outputs": [],
=======
   "execution_count": 39,
   "metadata": {},
   "outputs": [
    {
     "name": "stdout",
     "output_type": "stream",
     "text": [
      "Text unit records: 31\n"
     ]
    },
    {
     "data": {
      "text/html": [
       "<div>\n",
       "<style scoped>\n",
       "    .dataframe tbody tr th:only-of-type {\n",
       "        vertical-align: middle;\n",
       "    }\n",
       "\n",
       "    .dataframe tbody tr th {\n",
       "        vertical-align: top;\n",
       "    }\n",
       "\n",
       "    .dataframe thead th {\n",
       "        text-align: right;\n",
       "    }\n",
       "</style>\n",
       "<table border=\"1\" class=\"dataframe\">\n",
       "  <thead>\n",
       "    <tr style=\"text-align: right;\">\n",
       "      <th></th>\n",
       "      <th>id</th>\n",
       "      <th>text</th>\n",
       "      <th>n_tokens</th>\n",
       "      <th>document_ids</th>\n",
       "      <th>entity_ids</th>\n",
       "      <th>relationship_ids</th>\n",
       "      <th>covariate_ids</th>\n",
       "    </tr>\n",
       "  </thead>\n",
       "  <tbody>\n",
       "    <tr>\n",
       "      <th>0</th>\n",
       "      <td>644d7a7f0fa5b1428c1fafe65258b2c0</td>\n",
       "      <td>Generative AI in Real -World Workplaces  \\nThe...</td>\n",
       "      <td>512</td>\n",
       "      <td>[ba2768bc8ec3c85ee75905597df151a2]</td>\n",
       "      <td>[b45241d70f0e43fca764df95b2b81f77, 4119fd06010...</td>\n",
       "      <td>[b823ba1bfe944fa9887edd8faf8a5f17, bbdd53a15e9...</td>\n",
       "      <td>[8c839725-9e50-435b-8397-f093e925ae69, f159c26...</td>\n",
       "    </tr>\n",
       "    <tr>\n",
       "      <th>1</th>\n",
       "      <td>204b433ad19e035991efb2df3a12772a</td>\n",
       "      <td>their day -to-day jobs in significant \\nways....</td>\n",
       "      <td>512</td>\n",
       "      <td>[ba2768bc8ec3c85ee75905597df151a2]</td>\n",
       "      <td>[b45241d70f0e43fca764df95b2b81f77, 3b6cd96a273...</td>\n",
       "      <td>[d0bfb473fdc64643954cdb4675e2f389, a4db1b2a9c3...</td>\n",
       "      <td>[b95374b6-2443-4b90-bfb3-4812eb3e06df, c5ffa39...</td>\n",
       "    </tr>\n",
       "    <tr>\n",
       "      <th>2</th>\n",
       "      <td>bffea0de28de23b824ababad8ebd6b67</td>\n",
       "      <td>impact of these tools outside \\nof a lab sett...</td>\n",
       "      <td>512</td>\n",
       "      <td>[ba2768bc8ec3c85ee75905597df151a2]</td>\n",
       "      <td>[b45241d70f0e43fca764df95b2b81f77, 958beecdb5b...</td>\n",
       "      <td>[8dae140578c841ae9373cbc607c4a6e6, b215cc33cf4...</td>\n",
       "      <td>[248bf155-142e-4fc2-9e20-ea801f2b6891, 7e3f474...</td>\n",
       "    </tr>\n",
       "    <tr>\n",
       "      <th>3</th>\n",
       "      <td>92fe97fc068c126408255afd4e8f8eec</td>\n",
       "      <td>on productivity in real-world contexts. This ...</td>\n",
       "      <td>512</td>\n",
       "      <td>[ba2768bc8ec3c85ee75905597df151a2]</td>\n",
       "      <td>[3b6cd96a27304614850709aba1c9598b, babe97e1d97...</td>\n",
       "      <td>[49e24b5f2c1d40d7857afe327db4f554, 587f39a32e9...</td>\n",
       "      <td>[6b66c008-6223-49ea-97c2-f7232f2d2378, 1f0eb3b...</td>\n",
       "    </tr>\n",
       "    <tr>\n",
       "      <th>4</th>\n",
       "      <td>f4be7740240a148cb9de9642560bfa54</td>\n",
       "      <td>but also changing which tasks people choose t...</td>\n",
       "      <td>512</td>\n",
       "      <td>[ba2768bc8ec3c85ee75905597df151a2]</td>\n",
       "      <td>[b45241d70f0e43fca764df95b2b81f77, d3835bf3dda...</td>\n",
       "      <td>[c1ff9d8e1b8745d6860c34ce26122d79, 1d7b0deca76...</td>\n",
       "      <td>[fbf94fad-2bf0-443b-9e55-c5dff0ce6c91, 3cfe2c0...</td>\n",
       "    </tr>\n",
       "  </tbody>\n",
       "</table>\n",
       "</div>"
      ],
      "text/plain": [
       "                                 id  \\\n",
       "0  644d7a7f0fa5b1428c1fafe65258b2c0   \n",
       "1  204b433ad19e035991efb2df3a12772a   \n",
       "2  bffea0de28de23b824ababad8ebd6b67   \n",
       "3  92fe97fc068c126408255afd4e8f8eec   \n",
       "4  f4be7740240a148cb9de9642560bfa54   \n",
       "\n",
       "                                                text  n_tokens  \\\n",
       "0  Generative AI in Real -World Workplaces  \\nThe...       512   \n",
       "1   their day -to-day jobs in significant \\nways....       512   \n",
       "2   impact of these tools outside \\nof a lab sett...       512   \n",
       "3   on productivity in real-world contexts. This ...       512   \n",
       "4   but also changing which tasks people choose t...       512   \n",
       "\n",
       "                         document_ids  \\\n",
       "0  [ba2768bc8ec3c85ee75905597df151a2]   \n",
       "1  [ba2768bc8ec3c85ee75905597df151a2]   \n",
       "2  [ba2768bc8ec3c85ee75905597df151a2]   \n",
       "3  [ba2768bc8ec3c85ee75905597df151a2]   \n",
       "4  [ba2768bc8ec3c85ee75905597df151a2]   \n",
       "\n",
       "                                          entity_ids  \\\n",
       "0  [b45241d70f0e43fca764df95b2b81f77, 4119fd06010...   \n",
       "1  [b45241d70f0e43fca764df95b2b81f77, 3b6cd96a273...   \n",
       "2  [b45241d70f0e43fca764df95b2b81f77, 958beecdb5b...   \n",
       "3  [3b6cd96a27304614850709aba1c9598b, babe97e1d97...   \n",
       "4  [b45241d70f0e43fca764df95b2b81f77, d3835bf3dda...   \n",
       "\n",
       "                                    relationship_ids  \\\n",
       "0  [b823ba1bfe944fa9887edd8faf8a5f17, bbdd53a15e9...   \n",
       "1  [d0bfb473fdc64643954cdb4675e2f389, a4db1b2a9c3...   \n",
       "2  [8dae140578c841ae9373cbc607c4a6e6, b215cc33cf4...   \n",
       "3  [49e24b5f2c1d40d7857afe327db4f554, 587f39a32e9...   \n",
       "4  [c1ff9d8e1b8745d6860c34ce26122d79, 1d7b0deca76...   \n",
       "\n",
       "                                       covariate_ids  \n",
       "0  [8c839725-9e50-435b-8397-f093e925ae69, f159c26...  \n",
       "1  [b95374b6-2443-4b90-bfb3-4812eb3e06df, c5ffa39...  \n",
       "2  [248bf155-142e-4fc2-9e20-ea801f2b6891, 7e3f474...  \n",
       "3  [6b66c008-6223-49ea-97c2-f7232f2d2378, 1f0eb3b...  \n",
       "4  [fbf94fad-2bf0-443b-9e55-c5dff0ce6c91, 3cfe2c0...  "
      ]
     },
     "execution_count": 39,
     "metadata": {},
     "output_type": "execute_result"
    }
   ],
>>>>>>> origin/main
   "source": [
    "text_unit_df = pd.read_parquet(f\"{INPUT_DIR}/{TEXT_UNIT_TABLE}.parquet\")\n",
    "text_units = read_indexer_text_units(text_unit_df)\n",
    "\n",
    "print(f\"Text unit records: {len(text_unit_df)}\")\n",
    "text_unit_df.head()"
   ]
  },
  {
   "cell_type": "code",
<<<<<<< HEAD
   "execution_count": null,
=======
   "execution_count": 42,
>>>>>>> origin/main
   "metadata": {},
   "outputs": [],
   "source": [
    "api_key = os.environ[\"GRAPHRAG_API_KEY\"]\n",
    "llm_model = os.environ[\"GRAPHRAG_LLM_MODEL\"]\n",
    "embedding_model = os.environ[\"GRAPHRAG_EMBEDDING_MODEL\"]\n",
    "api_version = \"2023-05-15\"\n",
    "api_base = \"https://gpt-4o-fr.openai.azure.com\"\n",
    "\n",
    "llm = ChatOpenAI(\n",
    "    api_key=api_key,\n",
    "    model=llm_model,\n",
    "    api_type=OpenaiApiType.AzureOpenAI,  # OpenaiApiType.OpenAI or OpenaiApiType.AzureOpenAI\n",
    "    max_retries=20,\n",
    "    api_base=api_base,\n",
    "    api_version=api_version\n",
    ")\n",
    "\n",
    "token_encoder = tiktoken.get_encoding(\"cl100k_base\")\n",
    "\n",
    "text_embedder = OpenAIEmbedding(\n",
    "    api_key=api_key,\n",
    "    api_base=api_base,\n",
    "    api_type=OpenaiApiType.AzureOpenAI,\n",
    "    model=embedding_model,\n",
    "    deployment_name=embedding_model,\n",
    "    max_retries=20,\n",
    "    api_version=api_version\n",
    ")"
   ]
  },
  {
   "cell_type": "markdown",
   "metadata": {},
   "source": [
    "### Create local search context builder"
   ]
  },
  {
   "cell_type": "code",
<<<<<<< HEAD
   "execution_count": null,
=======
   "execution_count": 43,
>>>>>>> origin/main
   "metadata": {},
   "outputs": [],
   "source": [
    "context_builder = LocalSearchMixedContext(\n",
    "    community_reports=reports,\n",
    "    text_units=text_units,\n",
    "    entities=entities,\n",
    "    relationships=relationships,\n",
    "    # if you did not run covariates during indexing, set this to None\n",
    "    covariates=covariates,\n",
    "    entity_text_embeddings=description_embedding_store,\n",
    "    embedding_vectorstore_key=EntityVectorStoreKey.ID,  # if the vectorstore uses entity title as ids, set this to EntityVectorStoreKey.TITLE\n",
    "    text_embedder=text_embedder,\n",
    "    token_encoder=token_encoder,\n",
    ")"
   ]
  },
  {
   "cell_type": "markdown",
   "metadata": {},
   "source": [
    "### Create local search engine"
   ]
  },
  {
   "cell_type": "code",
<<<<<<< HEAD
   "execution_count": null,
=======
   "execution_count": 44,
>>>>>>> origin/main
   "metadata": {},
   "outputs": [],
   "source": [
    "# text_unit_prop: proportion of context window dedicated to related text units\n",
    "# community_prop: proportion of context window dedicated to community reports.\n",
    "# The remaining proportion is dedicated to entities and relationships. Sum of text_unit_prop and community_prop should be <= 1\n",
    "# conversation_history_max_turns: maximum number of turns to include in the conversation history.\n",
    "# conversation_history_user_turns_only: if True, only include user queries in the conversation history.\n",
    "# top_k_mapped_entities: number of related entities to retrieve from the entity description embedding store.\n",
    "# top_k_relationships: control the number of out-of-network relationships to pull into the context window.\n",
    "# include_entity_rank: if True, include the entity rank in the entity table in the context window. Default entity rank = node degree.\n",
    "# include_relationship_weight: if True, include the relationship weight in the context window.\n",
    "# include_community_rank: if True, include the community rank in the context window.\n",
    "# return_candidate_context: if True, return a set of dataframes containing all candidate entity/relationship/covariate records that\n",
    "# could be relevant. Note that not all of these records will be included in the context window. The \"in_context\" column in these\n",
    "# dataframes indicates whether the record is included in the context window.\n",
    "# max_tokens: maximum number of tokens to use for the context window.\n",
    "\n",
    "\n",
    "local_context_params = {\n",
    "    \"text_unit_prop\": 0.5,\n",
    "    \"community_prop\": 0.1,\n",
    "    \"conversation_history_max_turns\": 5,\n",
    "    \"conversation_history_user_turns_only\": True,\n",
    "    \"top_k_mapped_entities\": 10,\n",
    "    \"top_k_relationships\": 10,\n",
    "    \"include_entity_rank\": True,\n",
    "    \"include_relationship_weight\": True,\n",
    "    \"include_community_rank\": False,\n",
    "    \"return_candidate_context\": False,\n",
    "    \"embedding_vectorstore_key\": EntityVectorStoreKey.ID,  # set this to EntityVectorStoreKey.TITLE if the vectorstore uses entity title as ids\n",
    "    \"max_tokens\": 12_000,  # change this based on the token limit you have on your model (if you are using a model with 8k limit, a good setting could be 5000)\n",
    "}\n",
    "\n",
    "llm_params = {\n",
    "    \"max_tokens\": 2_000,  # change this based on the token limit you have on your model (if you are using a model with 8k limit, a good setting could be 1000=1500)\n",
    "    \"temperature\": 0.0,\n",
    "}"
   ]
  },
  {
   "cell_type": "code",
<<<<<<< HEAD
   "execution_count": null,
=======
   "execution_count": 45,
>>>>>>> origin/main
   "metadata": {},
   "outputs": [],
   "source": [
    "search_engine = LocalSearch(\n",
    "    llm=llm,\n",
    "    context_builder=context_builder,\n",
    "    token_encoder=token_encoder,\n",
    "    llm_params=llm_params,\n",
    "    context_builder_params=local_context_params,\n",
    "    response_type=\"multiple paragraphs\",  # free form text describing the response type and format, can be anything, e.g. prioritized list, single paragraph, multiple paragraphs, multiple-page report\n",
    ")"
   ]
  },
  {
   "cell_type": "markdown",
   "metadata": {},
   "source": [
    "### Run local search on sample queries"
   ]
  },
  {
   "cell_type": "code",
<<<<<<< HEAD
   "execution_count": null,
   "metadata": {},
   "outputs": [],
=======
   "execution_count": 46,
   "metadata": {},
   "outputs": [
    {
     "name": "stdout",
     "output_type": "stream",
     "text": [
      "# How Companies Use AI\n",
      "\n",
      "Artificial Intelligence (AI) has become an integral part of modern business operations, offering a range of applications that enhance productivity, innovation, and overall efficiency. Companies across various industries are leveraging AI to automate routine tasks, analyze data, and improve decision-making processes. Below, we explore some of the key ways in which companies are utilizing AI.\n",
      "\n",
      "## Enhancing Developer Productivity\n",
      "\n",
      "One of the primary applications of AI in companies is to support software developers. AI tools can automate routine tasks, generate unit tests, write documentation, and analyze code for defects and optimizations. This support significantly enhances productivity by allowing developers to focus on more complex and creative aspects of their work. For instance, AI-driven code analysis can help identify and fix defects more efficiently, thereby improving the quality of the software [Data: AI Support for Developers and Its Impact on Productivity (39); Entities (299, 303, 304); Relationships (230, 616, 617, 618)].\n",
      "\n",
      "## Opportunities with Generative AI\n",
      "\n",
      "Generative AI presents numerous opportunities for companies to innovate and improve workflows. AI can generate new code snippets, suggest optimizations, and provide innovative solutions that developers might not have considered. This fosters a culture of innovation and continuous improvement within the organization. The relationship between generative AI and opportunities underscores the positive impact AI can have on the development process [Data: AI Support for Developers and Its Impact on Productivity (39); Entities (310); Relationships (206, 622, 628)].\n",
      "\n",
      "## Addressing Concerns and Challenges\n",
      "\n",
      "Despite the benefits, the integration of AI in companies comes with significant concerns. These include the potential for defects or vulnerabilities in AI-generated code, the need for validation and human oversight, and the impact on job security. Developers worry that over-reliance on AI could lead to a decrease in the quality of code and introduce security risks. Therefore, it is crucial for companies to implement robust validation processes and ensure that human oversight is maintained to mitigate these risks [Data: AI Support for Developers and Its Impact on Productivity (39); Entities (311, 320); Relationships (620, 623, 627)].\n",
      "\n",
      "## Importance of Training Programs\n",
      "\n",
      "Training programs are essential for helping employees effectively integrate AI into their workflows. These programs can address employees' concerns, improve their understanding of AI tools, and ensure that they are used effectively. By providing comprehensive training, companies can help employees build trust in AI tools and enhance their overall satisfaction and productivity. Training programs also help employees stay updated with the latest advancements in AI technology [Data: AI Support for Developers and Its Impact on Productivity (39); Entities (308); Relationships (621)].\n",
      "\n",
      "## Role of AI in Customer Service\n",
      "\n",
      "AI is also widely used in customer service to assist agents in resolving issues more efficiently. Conversational assistants, for example, can handle routine inquiries, allowing human agents to focus on more complex customer issues. This not only improves the efficiency of customer service operations but also enhances customer satisfaction by providing quicker and more accurate responses [Data: Entities (114)].\n",
      "\n",
      "## Building Trust in AI Tools\n",
      "\n",
      "Trust is a critical factor for the successful adoption of AI tools among employees. Companies need to ensure that AI-generated outputs are accurate and beneficial, addressing concerns about defects or vulnerabilities, and providing transparency in how AI tools operate. Building trust involves ensuring that AI tools are perceived as helpful and trustworthy, which is essential for their widespread adoption and effective use [Data: AI Support for Developers and Its Impact on Productivity (39); Entities (322); Relationships (629)].\n",
      "\n",
      "## Conclusion\n",
      "\n",
      "In summary, companies are leveraging AI to enhance productivity, foster innovation, and improve customer service. However, the successful integration of AI requires addressing concerns related to validation, human oversight, and job security. Comprehensive training programs and trust-building measures are essential to maximize the benefits of AI and ensure its effective use in the workplace. As AI technology continues to evolve, companies that effectively integrate these tools into their operations will likely see significant improvements in efficiency and innovation.\n"
     ]
    }
   ],
>>>>>>> origin/main
   "source": [
    "result = await search_engine.asearch(\"Tell me about how company use AI\")\n",
    "print(result.response)"
   ]
  },
  {
   "cell_type": "code",
<<<<<<< HEAD
   "execution_count": null,
   "metadata": {},
   "outputs": [],
=======
   "execution_count": 47,
   "metadata": {},
   "outputs": [
    {
     "name": "stdout",
     "output_type": "stream",
     "text": [
      "# Key Focus Areas for AI Startups\n",
      "\n",
      "## Enhancing Developer Productivity\n",
      "\n",
      "AI startups should prioritize developing tools that enhance developer productivity. AI can automate routine tasks, generate unit tests, write documentation, and analyze code for defects and optimizations. These capabilities can significantly reduce the time developers spend on monotonous tasks, allowing them to focus on more complex and creative aspects of their work. For instance, automating routine tasks can free up valuable time, while AI-driven code analysis can help identify and fix defects more efficiently [Data: AI Support for Developers and Its Impact on Productivity (39); Entities (299, 303, 304); Relationships (230, 616, 617, 618)].\n",
      "\n",
      "## Leveraging Generative AI for Innovation\n",
      "\n",
      "Generative AI presents numerous opportunities for innovation. AI startups should focus on creating tools that can generate new code snippets or suggest optimizations that developers might not have considered. This can foster innovation and improve workflows by providing solutions and efficiencies that were previously unattainable. The relationship between generative AI and opportunities underscores the positive impact AI can have on the development process [Data: AI Support for Developers and Its Impact on Productivity (39); Entities (310); Relationships (206, 622, 628)].\n",
      "\n",
      "## Addressing Concerns and Ensuring Quality\n",
      "\n",
      "Despite the benefits, there are significant concerns regarding the use of AI support. Startups must address potential defects or vulnerabilities in AI-generated code, the need for validation and human oversight, and the impact on job security. Developers worry that over-reliance on AI could lead to a decrease in the quality of code and potentially introduce security risks. Implementing robust validation processes and ensuring human oversight are crucial to mitigate these risks [Data: AI Support for Developers and Its Impact on Productivity (39); Entities (311, 320); Relationships (620, 623, 627)].\n",
      "\n",
      "## Importance of Training Programs\n",
      "\n",
      "Training programs are essential for helping developers effectively integrate AI support into their workflows. These programs can address developers' concerns, improve their understanding of AI tools, and ensure that they are used effectively. By providing comprehensive training, organizations can help developers build trust in AI tools and enhance their overall satisfaction and productivity. Training programs can also help developers stay updated with the latest advancements in AI technology [Data: AI Support for Developers and Its Impact on Productivity (39); Entities (308); Relationships (621)].\n",
      "\n",
      "## Building Trust in AI Tools\n",
      "\n",
      "Trust is a critical factor for the successful adoption of AI tools among developers. Startups must ensure that AI-generated outputs are accurate and beneficial, address concerns about defects or vulnerabilities, and provide transparency in how AI tools operate. Building trust involves ensuring that AI tools are perceived as helpful and trustworthy to maximize their positive impact [Data: AI Support for Developers and Its Impact on Productivity (39); Entities (322); Relationships (629)].\n",
      "\n",
      "## Role of Virtual Pair-Programming Partners\n",
      "\n",
      "AI tools can act as virtual pair-programming partners, providing suggestions and feedback similar to a human partner. This can enhance the developer experience by offering real-time assistance and improving the quality of code. Virtual pair-programming partners can help developers identify potential issues early in the development process and suggest optimizations, thereby improving the overall efficiency and effectiveness of the development process [Data: AI Support for Developers and Its Impact on Productivity (39); Entities (317); Relationships (624)].\n",
      "\n",
      "## Conclusion\n",
      "\n",
      "In summary, AI startups should focus on enhancing developer productivity, leveraging generative AI for innovation, addressing concerns and ensuring quality, providing training programs, building trust in AI tools, and utilizing virtual pair-programming partners. By concentrating on these areas, AI startups can create tools that significantly improve the development process and foster innovation while addressing the concerns and needs of developers.\n"
     ]
    }
   ],
>>>>>>> origin/main
   "source": [
    "question = \"Tell me about what a startup that build IA should focus\"\n",
    "result = await search_engine.asearch(question)\n",
    "print(result.response)"
   ]
  },
  {
   "cell_type": "markdown",
   "metadata": {},
   "source": [
    "#### Inspecting the context data used to generate the response"
   ]
  },
  {
   "cell_type": "code",
<<<<<<< HEAD
   "execution_count": null,
   "metadata": {},
   "outputs": [],
=======
   "execution_count": 48,
   "metadata": {},
   "outputs": [
    {
     "data": {
      "text/html": [
       "<div>\n",
       "<style scoped>\n",
       "    .dataframe tbody tr th:only-of-type {\n",
       "        vertical-align: middle;\n",
       "    }\n",
       "\n",
       "    .dataframe tbody tr th {\n",
       "        vertical-align: top;\n",
       "    }\n",
       "\n",
       "    .dataframe thead th {\n",
       "        text-align: right;\n",
       "    }\n",
       "</style>\n",
       "<table border=\"1\" class=\"dataframe\">\n",
       "  <thead>\n",
       "    <tr style=\"text-align: right;\">\n",
       "      <th></th>\n",
       "      <th>id</th>\n",
       "      <th>entity</th>\n",
       "      <th>description</th>\n",
       "      <th>number of relationships</th>\n",
       "      <th>in_context</th>\n",
       "    </tr>\n",
       "  </thead>\n",
       "  <tbody>\n",
       "    <tr>\n",
       "      <th>0</th>\n",
       "      <td>116</td>\n",
       "      <td>ENTREPRENEURSHIP SUPPORT TOOL</td>\n",
       "      <td>A generative AI-powered tool designed to assis...</td>\n",
       "      <td>3</td>\n",
       "      <td>True</td>\n",
       "    </tr>\n",
       "    <tr>\n",
       "      <th>1</th>\n",
       "      <td>308</td>\n",
       "      <td>TRAINING PROGRAMS</td>\n",
       "      <td>Training programs are initiatives that organiz...</td>\n",
       "      <td>1</td>\n",
       "      <td>True</td>\n",
       "    </tr>\n",
       "    <tr>\n",
       "      <th>2</th>\n",
       "      <td>117</td>\n",
       "      <td>KENYAN ENTREPRENEURS</td>\n",
       "      <td>Business owners in Kenya who participated in a...</td>\n",
       "      <td>1</td>\n",
       "      <td>True</td>\n",
       "    </tr>\n",
       "    <tr>\n",
       "      <th>3</th>\n",
       "      <td>579</td>\n",
       "      <td>AI AT WORK</td>\n",
       "      <td>AI at Work is a report by Microsoft and Linked...</td>\n",
       "      <td>2</td>\n",
       "      <td>True</td>\n",
       "    </tr>\n",
       "    <tr>\n",
       "      <th>4</th>\n",
       "      <td>311</td>\n",
       "      <td>CONCERNS</td>\n",
       "      <td>Concerns refer to the potential drawbacks and ...</td>\n",
       "      <td>1</td>\n",
       "      <td>True</td>\n",
       "    </tr>\n",
       "  </tbody>\n",
       "</table>\n",
       "</div>"
      ],
      "text/plain": [
       "    id                         entity  \\\n",
       "0  116  ENTREPRENEURSHIP SUPPORT TOOL   \n",
       "1  308              TRAINING PROGRAMS   \n",
       "2  117           KENYAN ENTREPRENEURS   \n",
       "3  579                     AI AT WORK   \n",
       "4  311                       CONCERNS   \n",
       "\n",
       "                                         description number of relationships  \\\n",
       "0  A generative AI-powered tool designed to assis...                       3   \n",
       "1  Training programs are initiatives that organiz...                       1   \n",
       "2  Business owners in Kenya who participated in a...                       1   \n",
       "3  AI at Work is a report by Microsoft and Linked...                       2   \n",
       "4  Concerns refer to the potential drawbacks and ...                       1   \n",
       "\n",
       "   in_context  \n",
       "0        True  \n",
       "1        True  \n",
       "2        True  \n",
       "3        True  \n",
       "4        True  "
      ]
     },
     "execution_count": 48,
     "metadata": {},
     "output_type": "execute_result"
    }
   ],
>>>>>>> origin/main
   "source": [
    "result.context_data[\"entities\"].head()"
   ]
  },
  {
   "cell_type": "code",
<<<<<<< HEAD
   "execution_count": null,
   "metadata": {},
   "outputs": [],
=======
   "execution_count": 49,
   "metadata": {},
   "outputs": [
    {
     "data": {
      "text/html": [
       "<div>\n",
       "<style scoped>\n",
       "    .dataframe tbody tr th:only-of-type {\n",
       "        vertical-align: middle;\n",
       "    }\n",
       "\n",
       "    .dataframe tbody tr th {\n",
       "        vertical-align: top;\n",
       "    }\n",
       "\n",
       "    .dataframe thead th {\n",
       "        text-align: right;\n",
       "    }\n",
       "</style>\n",
       "<table border=\"1\" class=\"dataframe\">\n",
       "  <thead>\n",
       "    <tr style=\"text-align: right;\">\n",
       "      <th></th>\n",
       "      <th>id</th>\n",
       "      <th>source</th>\n",
       "      <th>target</th>\n",
       "      <th>description</th>\n",
       "      <th>weight</th>\n",
       "      <th>rank</th>\n",
       "      <th>links</th>\n",
       "      <th>in_context</th>\n",
       "    </tr>\n",
       "  </thead>\n",
       "  <tbody>\n",
       "    <tr>\n",
       "      <th>0</th>\n",
       "      <td>275</td>\n",
       "      <td>SECOND MICROSOFT AI AND PRODUCTIVITY REPORT</td>\n",
       "      <td>LEARNINGS</td>\n",
       "      <td>The report synthesizes learnings from various ...</td>\n",
       "      <td>1.0</td>\n",
       "      <td>7</td>\n",
       "      <td>1</td>\n",
       "      <td>True</td>\n",
       "    </tr>\n",
       "    <tr>\n",
       "      <th>1</th>\n",
       "      <td>397</td>\n",
       "      <td>ENTREPRENEURSHIP SUPPORT TOOL</td>\n",
       "      <td>KENYAN ENTREPRENEURS</td>\n",
       "      <td>The generative AI-powered entrepreneurship sup...</td>\n",
       "      <td>1.0</td>\n",
       "      <td>4</td>\n",
       "      <td>1</td>\n",
       "      <td>True</td>\n",
       "    </tr>\n",
       "    <tr>\n",
       "      <th>2</th>\n",
       "      <td>809</td>\n",
       "      <td>KHEMKA, M.</td>\n",
       "      <td>HOUCK, B.</td>\n",
       "      <td>Khemka and Houck co-authored a survey on AI su...</td>\n",
       "      <td>2.0</td>\n",
       "      <td>4</td>\n",
       "      <td>1</td>\n",
       "      <td>True</td>\n",
       "    </tr>\n",
       "    <tr>\n",
       "      <th>3</th>\n",
       "      <td>621</td>\n",
       "      <td>AI SUPPORT FOR DEVELOPERS</td>\n",
       "      <td>TRAINING PROGRAMS</td>\n",
       "      <td>Training programs can help developers effectiv...</td>\n",
       "      <td>1.0</td>\n",
       "      <td>17</td>\n",
       "      <td>4</td>\n",
       "      <td>True</td>\n",
       "    </tr>\n",
       "    <tr>\n",
       "      <th>4</th>\n",
       "      <td>623</td>\n",
       "      <td>AI SUPPORT FOR DEVELOPERS</td>\n",
       "      <td>CONCERNS</td>\n",
       "      <td>Concerns refer to the potential drawbacks deve...</td>\n",
       "      <td>1.0</td>\n",
       "      <td>17</td>\n",
       "      <td>4</td>\n",
       "      <td>True</td>\n",
       "    </tr>\n",
       "  </tbody>\n",
       "</table>\n",
       "</div>"
      ],
      "text/plain": [
       "    id                                       source                target  \\\n",
       "0  275  SECOND MICROSOFT AI AND PRODUCTIVITY REPORT             LEARNINGS   \n",
       "1  397                ENTREPRENEURSHIP SUPPORT TOOL  KENYAN ENTREPRENEURS   \n",
       "2  809                                   KHEMKA, M.             HOUCK, B.   \n",
       "3  621                    AI SUPPORT FOR DEVELOPERS     TRAINING PROGRAMS   \n",
       "4  623                    AI SUPPORT FOR DEVELOPERS              CONCERNS   \n",
       "\n",
       "                                         description weight rank links  \\\n",
       "0  The report synthesizes learnings from various ...    1.0    7     1   \n",
       "1  The generative AI-powered entrepreneurship sup...    1.0    4     1   \n",
       "2  Khemka and Houck co-authored a survey on AI su...    2.0    4     1   \n",
       "3  Training programs can help developers effectiv...    1.0   17     4   \n",
       "4  Concerns refer to the potential drawbacks deve...    1.0   17     4   \n",
       "\n",
       "   in_context  \n",
       "0        True  \n",
       "1        True  \n",
       "2        True  \n",
       "3        True  \n",
       "4        True  "
      ]
     },
     "execution_count": 49,
     "metadata": {},
     "output_type": "execute_result"
    }
   ],
>>>>>>> origin/main
   "source": [
    "result.context_data[\"relationships\"].head()"
   ]
  },
  {
   "cell_type": "code",
<<<<<<< HEAD
   "execution_count": null,
   "metadata": {},
   "outputs": [],
=======
   "execution_count": 50,
   "metadata": {},
   "outputs": [
    {
     "data": {
      "text/html": [
       "<div>\n",
       "<style scoped>\n",
       "    .dataframe tbody tr th:only-of-type {\n",
       "        vertical-align: middle;\n",
       "    }\n",
       "\n",
       "    .dataframe tbody tr th {\n",
       "        vertical-align: top;\n",
       "    }\n",
       "\n",
       "    .dataframe thead th {\n",
       "        text-align: right;\n",
       "    }\n",
       "</style>\n",
       "<table border=\"1\" class=\"dataframe\">\n",
       "  <thead>\n",
       "    <tr style=\"text-align: right;\">\n",
       "      <th></th>\n",
       "      <th>id</th>\n",
       "      <th>title</th>\n",
       "      <th>content</th>\n",
       "    </tr>\n",
       "  </thead>\n",
       "  <tbody>\n",
       "    <tr>\n",
       "      <th>0</th>\n",
       "      <td>39</td>\n",
       "      <td>AI Support for Developers and Its Impact on Pr...</td>\n",
       "      <td># AI Support for Developers and Its Impact on ...</td>\n",
       "    </tr>\n",
       "    <tr>\n",
       "      <th>1</th>\n",
       "      <td>39</td>\n",
       "      <td>AI Support for Developers and Its Impact on Pr...</td>\n",
       "      <td># AI Support for Developers and Its Impact on ...</td>\n",
       "    </tr>\n",
       "  </tbody>\n",
       "</table>\n",
       "</div>"
      ],
      "text/plain": [
       "   id                                              title  \\\n",
       "0  39  AI Support for Developers and Its Impact on Pr...   \n",
       "1  39  AI Support for Developers and Its Impact on Pr...   \n",
       "\n",
       "                                             content  \n",
       "0  # AI Support for Developers and Its Impact on ...  \n",
       "1  # AI Support for Developers and Its Impact on ...  "
      ]
     },
     "execution_count": 50,
     "metadata": {},
     "output_type": "execute_result"
    }
   ],
>>>>>>> origin/main
   "source": [
    "result.context_data[\"reports\"].head()"
   ]
  },
  {
   "cell_type": "code",
<<<<<<< HEAD
   "execution_count": null,
   "metadata": {},
   "outputs": [],
=======
   "execution_count": 51,
   "metadata": {},
   "outputs": [
    {
     "data": {
      "text/html": [
       "<div>\n",
       "<style scoped>\n",
       "    .dataframe tbody tr th:only-of-type {\n",
       "        vertical-align: middle;\n",
       "    }\n",
       "\n",
       "    .dataframe tbody tr th {\n",
       "        vertical-align: top;\n",
       "    }\n",
       "\n",
       "    .dataframe thead th {\n",
       "        text-align: right;\n",
       "    }\n",
       "</style>\n",
       "<table border=\"1\" class=\"dataframe\">\n",
       "  <thead>\n",
       "    <tr style=\"text-align: right;\">\n",
       "      <th></th>\n",
       "      <th>id</th>\n",
       "      <th>text</th>\n",
       "    </tr>\n",
       "  </thead>\n",
       "  <tbody>\n",
       "    <tr>\n",
       "      <th>0</th>\n",
       "      <td>3</td>\n",
       "      <td>on productivity in real-world contexts. This ...</td>\n",
       "    </tr>\n",
       "    <tr>\n",
       "      <th>1</th>\n",
       "      <td>14</td>\n",
       "      <td>28 and 3.75, respectively.  \\n \\nAs noted abov...</td>\n",
       "    </tr>\n",
       "    <tr>\n",
       "      <th>2</th>\n",
       "      <td>28</td>\n",
       "      <td>Microsoft Copilot for Security . Available at...</td>\n",
       "    </tr>\n",
       "    <tr>\n",
       "      <th>3</th>\n",
       "      <td>2</td>\n",
       "      <td>impact of these tools outside \\nof a lab sett...</td>\n",
       "    </tr>\n",
       "    <tr>\n",
       "      <th>4</th>\n",
       "      <td>25</td>\n",
       "      <td>collect both survey \\nand telemetry measures ...</td>\n",
       "    </tr>\n",
       "  </tbody>\n",
       "</table>\n",
       "</div>"
      ],
      "text/plain": [
       "   id                                               text\n",
       "0   3   on productivity in real-world contexts. This ...\n",
       "1  14  28 and 3.75, respectively.  \\n \\nAs noted abov...\n",
       "2  28   Microsoft Copilot for Security . Available at...\n",
       "3   2   impact of these tools outside \\nof a lab sett...\n",
       "4  25   collect both survey \\nand telemetry measures ..."
      ]
     },
     "execution_count": 51,
     "metadata": {},
     "output_type": "execute_result"
    }
   ],
>>>>>>> origin/main
   "source": [
    "result.context_data[\"sources\"].head()"
   ]
  },
  {
   "cell_type": "code",
<<<<<<< HEAD
   "execution_count": null,
   "metadata": {},
   "outputs": [],
=======
   "execution_count": 52,
   "metadata": {},
   "outputs": [
    {
     "name": "stdout",
     "output_type": "stream",
     "text": [
      "Empty DataFrame\n",
      "Columns: [in_context]\n",
      "Index: []\n"
     ]
    }
   ],
>>>>>>> origin/main
   "source": [
    "if \"claims\" in result.context_data:\n",
    "    print(result.context_data[\"claims\"].head())"
   ]
  },
  {
   "cell_type": "markdown",
   "metadata": {},
   "source": [
    "### Question Generation"
   ]
  },
  {
   "cell_type": "markdown",
   "metadata": {},
   "source": [
    "This function takes a list of user queries and generates the next candidate questions."
   ]
  },
  {
   "cell_type": "code",
<<<<<<< HEAD
   "execution_count": null,
=======
   "execution_count": 53,
>>>>>>> origin/main
   "metadata": {},
   "outputs": [],
   "source": [
    "question_generator = LocalQuestionGen(\n",
    "    llm=llm,\n",
    "    context_builder=context_builder,\n",
    "    token_encoder=token_encoder,\n",
    "    llm_params=llm_params,\n",
    "    context_builder_params=local_context_params,\n",
    ")"
   ]
  },
  {
   "cell_type": "code",
<<<<<<< HEAD
   "execution_count": null,
   "metadata": {},
   "outputs": [],
=======
   "execution_count": 54,
   "metadata": {},
   "outputs": [
    {
     "name": "stdout",
     "output_type": "stream",
     "text": [
      "['- What are the main productivity gains associated with the use of AI tools like Microsoft Copilot in the workplace?', \"- How does the collaboration between Microsoft and LinkedIn contribute to understanding AI's impact on workplace environments?\", '- What are the challenges and concerns developers have regarding AI integration in their workflows?', '- How does the use of AI tools like Copilot vary across different roles, functions, and organizations?', '- What are the potential effects of AI tools on cognitive effort and collaboration within teams?']\n"
     ]
    }
   ],
>>>>>>> origin/main
   "source": [
    "question_history = [\n",
    "    \"Tell me about what are the most underestimate domain toward use of AI in company\",\n",
    "    \"How AI impact companies ?\",\n",
    "]\n",
    "candidate_questions = await question_generator.agenerate(\n",
    "    question_history=question_history, context_data=None, question_count=5\n",
    ")\n",
    "print(candidate_questions.response)"
   ]
  }
 ],
 "metadata": {
  "kernelspec": {
   "display_name": "Python 3",
   "language": "python",
   "name": "python3"
  },
  "language_info": {
   "codemirror_mode": {
    "name": "ipython",
    "version": 3
   },
   "file_extension": ".py",
   "mimetype": "text/x-python",
   "name": "python",
   "nbconvert_exporter": "python",
   "pygments_lexer": "ipython3",
   "version": "3.11.9"
  }
 },
 "nbformat": 4,
 "nbformat_minor": 2
}
